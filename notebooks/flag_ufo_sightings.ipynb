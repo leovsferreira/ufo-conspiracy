{
 "cells": [
  {
   "cell_type": "markdown",
   "metadata": {},
   "source": [
    "# Celestial Conspiracies: UFOs, SpaceX, and Military Bases 🚀👽🏰\n",
    "\n",
    "In this notebook we will:\n",
    "- **Load** and examine our processed datasets:\n",
    "  - `ufo_processed.csv`\n",
    "  - `launches_processed.json`\n",
    "  - `launchpads_processed.json`\n",
    "  - `military_bases.csv`\n",
    "- **Flag** UFO sightings:\n",
    "  - **is_near_spacex_launch:** UFO sighting occurred within 24 hours after a launch and within 50 km of the launch location.\n",
    "  - **is_near_military:** UFO sighting occurred within 50 km of a military base."
   ]
  },
  {
   "cell_type": "markdown",
   "metadata": {},
   "source": [
    "## Data Loading 📥\n",
    "\n",
    "In this cell, we load the all **preprocessed datasets**:\n",
    "\n",
    "- **Launches Data:** Loaded from a JSON file.\n",
    "- **Launchpads Data:** Loaded from a JSON file.\n",
    "- **UFO Data:** Loaded from a CSV file.\n",
    "- **U.S. Military Bases Data:** Loaded from a CSV file."
   ]
  },
  {
   "cell_type": "code",
   "execution_count": 2,
   "metadata": {},
   "outputs": [
    {
     "name": "stdout",
     "output_type": "stream",
     "text": [
      "✅ All datasets loaded!\n"
     ]
    }
   ],
   "source": [
    "import os\n",
    "import pandas as pd\n",
    "import json\n",
    "\n",
    "# For interactive plots later\n",
    "import plotly.express as px\n",
    "\n",
    "# ============================================================\n",
    "# SETUP: Define output directory relative to this script\n",
    "# ============================================================\n",
    "# Get the absolute path of the directory where this script is located\n",
    "# In a notebook, __file__ is not defined so we use os.getcwd() as a fallback.\n",
    "try:\n",
    "    BASE_DIR = os.path.dirname(os.path.abspath(__file__))\n",
    "except NameError:\n",
    "    BASE_DIR = os.getcwd()\n",
    "\n",
    "# Define the folder where raw data is stored (assumed to be \"../data/raw\")\n",
    "PROCESSED_DIR = os.path.join(BASE_DIR, \"..\", \"data\", \"processed\")\n",
    "\n",
    "# Ensure directories exist (for saving output later)\n",
    "os.makedirs(PROCESSED_DIR, exist_ok=True)\n",
    "\n",
    "# Load our datasets\n",
    "ufo_path = os.path.join(PROCESSED_DIR, \"ufo_processed.csv\")\n",
    "launches_path = os.path.join(PROCESSED_DIR, \"launches_processed.json\")\n",
    "launchpads_path = os.path.join(PROCESSED_DIR, \"launchpads_processed.json\")\n",
    "military_path = os.path.join(PROCESSED_DIR, \"military_bases.csv\")\n",
    "\n",
    "# Load UFO data\n",
    "ufo_df = pd.read_csv(ufo_path)\n",
    "# Convert the UFO datetime string into a datetime object for easier comparison\n",
    "ufo_df['datetime'] = pd.to_datetime(ufo_df['datetime'], format=\"%m/%d/%Y %H:%M\")\n",
    "\n",
    "# Load SpaceX launches data\n",
    "with open(launches_path, \"r\") as f:\n",
    "    launches = json.load(f)\n",
    "launches_df = pd.DataFrame(launches)\n",
    "# Convert the launch \"date\" string into datetime object.\n",
    "launches_df['date'] = pd.to_datetime(launches_df['date'], format=\"%m/%d/%Y %H:%M\")\n",
    "\n",
    "# Load SpaceX launchpads data\n",
    "with open(launchpads_path, \"r\") as f:\n",
    "    launchpads = json.load(f)\n",
    "launchpads_df = pd.DataFrame(launchpads)\n",
    "\n",
    "# Load military bases data\n",
    "# Note: The military bases CSV is delimited by semicolons.\n",
    "military_df = pd.read_csv(military_path, delimiter=\";\")\n",
    "\n",
    "print(\"✅ All datasets loaded!\")"
   ]
  },
  {
   "cell_type": "markdown",
   "metadata": {},
   "source": [
    "## Flagging UFO Sightings Near SpaceX Launches 🚀👽"
   ]
  },
  {
   "cell_type": "code",
   "execution_count": 3,
   "metadata": {},
   "outputs": [
    {
     "name": "stdout",
     "output_type": "stream",
     "text": [
      "🚀 UFO sightings flagged near SpaceX launches!\n"
     ]
    }
   ],
   "source": []
  },
  {
   "cell_type": "code",
   "execution_count": null,
   "metadata": {},
   "outputs": [],
   "source": []
  }
 ],
 "metadata": {
  "kernelspec": {
   "display_name": "ufo",
   "language": "python",
   "name": "python3"
  },
  "language_info": {
   "codemirror_mode": {
    "name": "ipython",
    "version": 3
   },
   "file_extension": ".py",
   "mimetype": "text/x-python",
   "name": "python",
   "nbconvert_exporter": "python",
   "pygments_lexer": "ipython3",
   "version": "3.13.1"
  }
 },
 "nbformat": 4,
 "nbformat_minor": 2
}
