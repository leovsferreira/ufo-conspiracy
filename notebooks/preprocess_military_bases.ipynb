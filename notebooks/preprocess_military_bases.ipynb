{
 "cells": [
  {
   "cell_type": "markdown",
   "metadata": {},
   "source": [
    "# Military Base Centroids Calculation 🏰📍\n",
    "\n",
    "In this notebook, we'll:\n",
    "- Load the military bases CSV file.\n",
    "- Parse the \"Geo Shape\" column, which contains a JSON string representing the polygon.\n",
    "- Compute the centroid (average latitude and longitude) of the polygon.\n",
    "- Save the updated dataset with two new columns: `center_lat` and `center_lon`."
   ]
  },
  {
   "cell_type": "markdown",
   "metadata": {},
   "source": [
    "[!WARNING]  \n",
    "Download the data before running this notebook. Check the documentation."
   ]
  },
  {
   "cell_type": "markdown",
   "metadata": {},
   "source": [
    "## Data Loading 📥\n",
    "\n",
    "In this cell, we load:\n",
    "\n",
    "- **U.S. Military Bases Data:** Loaded from a CSV file."
   ]
  },
  {
   "cell_type": "code",
   "execution_count": 1,
   "metadata": {},
   "outputs": [],
   "source": [
    "import os\n",
    "import pandas as pd\n",
    "\n",
    "\n",
    "# ============================================================\n",
    "# SETUP: Define output directory relative to this script\n",
    "# ============================================================\n",
    "# Get the absolute path of the directory where this script is located\n",
    "# In a notebook, __file__ is not defined so we use os.getcwd() as a fallback.\n",
    "try:\n",
    "    BASE_DIR = os.path.dirname(os.path.abspath(__file__))\n",
    "except NameError:\n",
    "    BASE_DIR = os.getcwd()\n",
    "\n",
    "# Define the folder where raw data is stored (assumed to be \"../data/raw\")\n",
    "RAW_DIR = os.path.join(BASE_DIR, \"..\", \"data\", \"raw\")\n",
    "\n",
    "# Define the folder where processed data will be saved (assumed to be \"../data/processed\")\n",
    "PROCESSED_DIR = os.path.join(BASE_DIR, \"..\", \"data\", \"processed\")\n",
    "os.makedirs(PROCESSED_DIR, exist_ok=True)  # Create the folder if it doesn't exist\n",
    "\n",
    "# Build the absolute paths for military bases\n",
    "output_path = os.path.join(RAW_DIR, \"military_bases.csv\")\n",
    "\n",
    "# Load the military bases CSV (delimiter is semicolon)\n",
    "military_df = pd.read_csv(output_path, delimiter=\";\")"
   ]
  },
  {
   "cell_type": "markdown",
   "metadata": {},
   "source": [
    "## Calculating Centroids📍"
   ]
  },
  {
   "cell_type": "markdown",
   "metadata": {},
   "source": [
    "<div class=\"alert alert-block alert-info\">\n",
    "    ⚠️ We are going to use Centroids instead of the Geo Point column because in the future we are going to use radial distance to associate UFO occurences with military bases. So, we want the reference point to be on the center and not at the entrance of the base.\n",
    "</div>"
   ]
  },
  {
   "cell_type": "code",
   "execution_count": 7,
   "metadata": {},
   "outputs": [],
   "source": [
    "import json\n",
    "import numpy as np\n",
    "\n",
    "# Function to compute centroid from a Geo Shape JSON string\n",
    "def compute_centroid(geo_shape_str):\n",
    "    \"\"\"\n",
    "    Given a Geo Shape string (JSON formatted) for a Polygon, \n",
    "    compute the centroid (mean of latitudes and longitudes) \n",
    "    of the first ring.\n",
    "    \n",
    "    Example input:\n",
    "    \"{\"\"coordinates\"\": [[[-85.6546, 31.2341], [-85.6528, 31.2350], ...]], \"\"type\"\": \"\"Polygon\"\"}\"\n",
    "    \"\"\"\n",
    "    try:\n",
    "        # Parse the JSON string; sometimes extra quotes need to be handled.\n",
    "        geo_obj = json.loads(geo_shape_str)\n",
    "        # Assume the first element in \"coordinates\" is the outer ring\n",
    "        coords = geo_obj[\"coordinates\"][0]\n",
    "        # Separate latitudes and longitudes:\n",
    "        # Note: Geo Shape has format [lon, lat]. \n",
    "        # Note: Geo Point has format [lat, lon]. \n",
    "        lons = [pt[0] for pt in coords]\n",
    "        lats = [pt[1] for pt in coords]\n",
    "        # Compute simple arithmetic mean:\n",
    "        centroid_lat = np.mean(lats)\n",
    "        centroid_lon = np.mean(lons)\n",
    "        return centroid_lat, centroid_lon\n",
    "    except Exception as e:\n",
    "        # If there is any error, return NaN values\n",
    "        return np.nan, np.nan"
   ]
  },
  {
   "cell_type": "code",
   "execution_count": 8,
   "metadata": {},
   "outputs": [
    {
     "name": "stdout",
     "output_type": "stream",
     "text": [
      "                      Site Name  center_lat  center_lon  \\\n",
      "0           Allen Stagefield AL   31.231056  -85.651145   \n",
      "1      Louisville Stagefield AL   31.815442  -85.651380   \n",
      "2  White Sands Missile Range NM   33.073976 -106.374950   \n",
      "3                   Fort Monroe  -19.630117  -19.630106   \n",
      "4                MCB Camp Smith   21.386671 -157.905343   \n",
      "\n",
      "                       Geo Point  \n",
      "0  31.2309993833, -85.6506347178  \n",
      "1  31.8157331822, -85.6497984957  \n",
      "2  33.1594636742, -106.425696182  \n",
      "3  37.0130203962, -76.3043760544  \n",
      "4  21.3866284869, -157.905641308  \n"
     ]
    }
   ],
   "source": [
    "# Apply the function to the \"Geo Shape\" column and create new columns.\n",
    "military_df[['center_lat', 'center_lon']] = military_df['Geo Shape'].apply(\n",
    "    lambda x: pd.Series(compute_centroid(x))\n",
    ")\n",
    "\n",
    "# Let's preview the updated DataFrame\n",
    "print(military_df[['Site Name', 'center_lat', 'center_lon', 'Geo Point']].head())"
   ]
  },
  {
   "cell_type": "markdown",
   "metadata": {},
   "source": [
    "## Saving the Processed U.S. Military Base Data 💾"
   ]
  },
  {
   "cell_type": "code",
   "execution_count": 9,
   "metadata": {},
   "outputs": [
    {
     "name": "stdout",
     "output_type": "stream",
     "text": [
      "✅ Military bases with centroids saved to: /home/lferr10/code/leovsferreira/ufo-conspiracy/notebooks/../data/processed/military_bases_processed.csv\n"
     ]
    }
   ],
   "source": [
    "# Saving the updated DataFrame to a new CSV for later use\n",
    "centroid_output = os.path.join(PROCESSED_DIR, \"military_bases_processed.csv\")\n",
    "\n",
    "military_df.to_csv(centroid_output, index=False)\n",
    "\n",
    "print(\"✅ Military bases with centroids saved to:\", centroid_output)"
   ]
  }
 ],
 "metadata": {
  "kernelspec": {
   "display_name": "ufo",
   "language": "python",
   "name": "python3"
  },
  "language_info": {
   "codemirror_mode": {
    "name": "ipython",
    "version": 3
   },
   "file_extension": ".py",
   "mimetype": "text/x-python",
   "name": "python",
   "nbconvert_exporter": "python",
   "pygments_lexer": "ipython3",
   "version": "3.13.1"
  }
 },
 "nbformat": 4,
 "nbformat_minor": 2
}
